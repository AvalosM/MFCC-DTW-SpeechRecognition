{
 "cells": [
  {
   "cell_type": "code",
   "execution_count": null,
   "metadata": {},
   "outputs": [],
   "source": [
    "import numpy as np\n",
    "import pandas as pd\n",
    "import matplotlib.pyplot as plt\n",
    "from scipy import spatial\n",
    "plt.rcParams['figure.figsize'] = (10, 5)"
   ]
  },
  {
   "cell_type": "markdown",
   "metadata": {},
   "source": [
    "## FFT tests"
   ]
  },
  {
   "cell_type": "markdown",
   "metadata": {},
   "source": [
    "### Sinewave"
   ]
  },
  {
   "cell_type": "code",
   "execution_count": null,
   "metadata": {},
   "outputs": [],
   "source": [
    "data = pd.read_csv('../results/tests/fft_sinewave.csv', header=None)\n",
    "size = data.shape[0]\n",
    "print(size)\n",
    "freq = range(0, size, 1)\n",
    "plt.plot(freq, data[0][:size])"
   ]
  },
  {
   "cell_type": "code",
   "execution_count": null,
   "metadata": {},
   "outputs": [],
   "source": [
    "data = pd.read_csv('../results/tests/fft_fftsinewave.csv', header=None).to_numpy()\n",
    "size = data.shape[0]\n",
    "print(data.shape)\n",
    "\n",
    "freq = range(0, size, 1)\n",
    "plt.plot(freq, np.abs(data[:size])**2)"
   ]
  },
  {
   "cell_type": "markdown",
   "metadata": {},
   "source": [
    "### Wave sum"
   ]
  },
  {
   "cell_type": "code",
   "execution_count": null,
   "metadata": {},
   "outputs": [],
   "source": [
    "data = pd.read_csv('../results/tests/fft_wavesum.csv', header=None)\n",
    "size = data.shape[0]\n",
    "print(size)\n",
    "freq = range(0, size, 1)\n",
    "plt.plot(freq, data[0][:size])"
   ]
  },
  {
   "cell_type": "code",
   "execution_count": null,
   "metadata": {},
   "outputs": [],
   "source": [
    "data = pd.read_csv('../results/tests/fft_fftwavesum.csv', header=None).to_numpy()\n",
    "size = data.shape[0]\n",
    "print(size)\n",
    "\n",
    "freq = range(0, size, 1)\n",
    "plt.plot(freq, np.abs(data[:size])**2)"
   ]
  },
  {
   "cell_type": "markdown",
   "metadata": {},
   "source": [
    "## Mel coefficients"
   ]
  },
  {
   "cell_type": "markdown",
   "metadata": {},
   "source": [
    "### Filterbank"
   ]
  },
  {
   "cell_type": "code",
   "execution_count": null,
   "metadata": {},
   "outputs": [],
   "source": [
    "fbank = pd.read_csv('../results/tests/filterbank.csv', header=None).to_numpy()\n",
    "plt.plot(fbank[0:257,:]);\n",
    "plt.xticks(np.arange(0,258,32.125), np.arange(0,8001,1000));\n",
    "plt.xlabel(\"Frequency\");\n",
    "plt.ylabel(\"Amplitude\");"
   ]
  },
  {
   "cell_type": "markdown",
   "metadata": {},
   "source": [
    "Lets compare the spectograms generated with mel scale for different audio recordings of the same word"
   ]
  },
  {
   "cell_type": "code",
   "execution_count": null,
   "metadata": {},
   "outputs": [],
   "source": [
    "sample_names = ['four0', 'two0', 'four1', 'two1', 'marvin', 'happy']"
   ]
  },
  {
   "cell_type": "markdown",
   "metadata": {},
   "source": [
    "### Mel spectograms"
   ]
  },
  {
   "cell_type": "code",
   "execution_count": null,
   "metadata": {},
   "outputs": [],
   "source": [
    "fig = plt.figure()\n",
    "for i in range(0,4):\n",
    "    fig.add_subplot(2,2,i+1)\n",
    "    spectogram = pd.read_csv('../results/tests/'+ sample_names[i] + '_spectogram.csv', header=None).to_numpy().transpose()\n",
    "    plt.imshow(spectogram, origin='lower', cmap='jet', aspect='auto')\n",
    "    plt.xticks(np.linspace(0, spectogram.shape[1]-1, num=5), np.linspace(0, 1, num=5))\n",
    "    plt.yticks(np.linspace(0, spectogram.shape[0]-1, num=5),np.trunc(np.logspace(np.log2(300),np.log2(8000), base=2, num=5)))\n",
    "    plt.title(sample_names[i])\n",
    "    plt.xlabel(\"Time(s)\");\n",
    "    plt.ylabel(\"Frequency\");\n",
    "fig.tight_layout()\n"
   ]
  },
  {
   "cell_type": "code",
   "execution_count": null,
   "metadata": {},
   "outputs": [],
   "source": [
    "fig = plt.figure()\n",
    "for i in range(0,4):\n",
    "    fig.add_subplot(2,2,i+1)\n",
    "    mfcc = pd.read_csv('../results/tests/'+ sample_names[i] + '_mfcc.csv', header=None).to_numpy().transpose()\n",
    "    plt.imshow(mfcc, origin='lower', aspect='auto', cmap='jet')\n",
    "    plt.xticks(np.linspace(0, mfcc.shape[1]-1, num=5), np.linspace(0, 1, num=5))\n",
    "    plt.yticks(np.arange(0,12,1), np.arange(1,13,1))\n",
    "    plt.title(sample_names[i])\n",
    "    plt.xlabel(\"Time(s)\");\n",
    "    plt.ylabel(\"MFCC feature\");\n",
    "fig.tight_layout()\n",
    "    "
   ]
  },
  {
   "cell_type": "markdown",
   "metadata": {},
   "source": [
    "## Comparison"
   ]
  },
  {
   "cell_type": "markdown",
   "metadata": {},
   "source": [
    "### Distance  matrix"
   ]
  },
  {
   "cell_type": "code",
   "execution_count": null,
   "metadata": {},
   "outputs": [],
   "source": [
    "from scipy import spatial\n",
    "fig = plt.figure()\n",
    "subplot_num = 1\n",
    "for i in range(0,4):\n",
    "    for j in range(i+1,4):\n",
    "        fig.add_subplot(2,3,subplot_num)\n",
    "        subplot_num = subplot_num + 1\n",
    "        mfcc1 = pd.read_csv('../results/tests/'+ sample_names[i] + '_mfcc.csv', header=None).to_numpy()\n",
    "        mfcc2 = pd.read_csv('../results/tests/'+ sample_names[j] + '_mfcc.csv', header=None).to_numpy()\n",
    "        dmatrix = spatial.distance_matrix(mfcc1, mfcc2)\n",
    "        im = plt.imshow(dmatrix, aspect='auto', interpolation='none', cmap='hot', origin='lower')\n",
    "        ax = fig.gca()\n",
    "        plt.title(sample_names[i] + ' vs. ' + sample_names[j])\n",
    "        cbar = ax.figure.colorbar(im, ax=ax)\n",
    "        cbar.ax.set_ylabel('Distance', rotation=-90, va=\"bottom\");\n",
    "fig.tight_layout()"
   ]
  },
  {
   "cell_type": "code",
   "execution_count": null,
   "metadata": {},
   "outputs": [],
   "source": [
    "fig = plt.figure()\n",
    "mfcc1 = pd.read_csv('../results/tests/'+ sample_names[0] + '_mfcc.csv', header=None).to_numpy()\n",
    "dmatrix = spatial.distance_matrix(mfcc1, mfcc1)\n",
    "im = plt.imshow(dmatrix, aspect='auto', interpolation='none', cmap='hot', origin='lower')\n",
    "ax = fig.gca()\n",
    "plt.title(sample_names[0] + ' vs. ' + sample_names[0])\n",
    "cbar = ax.figure.colorbar(im, ax=ax)\n",
    "cbar.ax.set_ylabel('Distance', rotation=-90, va=\"bottom\");\n",
    "fig.tight_layout()"
   ]
  }
 ],
 "metadata": {
  "interpreter": {
   "hash": "68ad91fe56bf228a59db514315867f7d3e19b6c669e7a0fbd4d5254dbb53db91"
  },
  "kernelspec": {
   "display_name": "Python 3.9.2 64-bit ('speechrecognition': venv)",
   "language": "python",
   "name": "python3"
  },
  "language_info": {
   "codemirror_mode": {
    "name": "ipython",
    "version": 3
   },
   "file_extension": ".py",
   "mimetype": "text/x-python",
   "name": "python",
   "nbconvert_exporter": "python",
   "pygments_lexer": "ipython3",
   "version": "3.9.2"
  },
  "orig_nbformat": 4
 },
 "nbformat": 4,
 "nbformat_minor": 2
}
