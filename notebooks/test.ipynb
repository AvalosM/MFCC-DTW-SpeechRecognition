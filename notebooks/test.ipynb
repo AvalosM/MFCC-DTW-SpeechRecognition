{
 "cells": [
  {
   "cell_type": "code",
   "execution_count": null,
   "metadata": {},
   "outputs": [],
   "source": [
    "import numpy as np\n",
    "import pandas as pd\n",
    "import matplotlib.pyplot as plt\n",
    "import IPython.display as ipd\n",
    "plt.rcParams['figure.figsize'] = (10, 5)"
   ]
  },
  {
   "cell_type": "markdown",
   "metadata": {},
   "source": [
    "## FFT tests"
   ]
  },
  {
   "cell_type": "markdown",
   "metadata": {},
   "source": [
    "### Sinewave"
   ]
  },
  {
   "cell_type": "code",
   "execution_count": null,
   "metadata": {},
   "outputs": [],
   "source": [
    "data = pd.read_csv('../results/tests/fft_sinewave.csv', header=None)\n",
    "size = data.shape[0]\n",
    "print(size)\n",
    "freq = range(0, size, 1)\n",
    "plt.plot(freq, data[0][:size])"
   ]
  },
  {
   "cell_type": "code",
   "execution_count": null,
   "metadata": {},
   "outputs": [],
   "source": [
    "data = pd.read_csv('../results/tests/fft_fftsinewave.csv', header=None).to_numpy()\n",
    "size = data.shape[0]\n",
    "print(data.shape)\n",
    "\n",
    "freq = range(0, size, 1)\n",
    "plt.plot(freq, np.abs(data[:size])**2)"
   ]
  },
  {
   "cell_type": "markdown",
   "metadata": {},
   "source": [
    "### Wave sum"
   ]
  },
  {
   "cell_type": "code",
   "execution_count": null,
   "metadata": {},
   "outputs": [],
   "source": [
    "data = pd.read_csv('../results/tests/fft_wavesum.csv', header=None)\n",
    "size = data.shape[0]\n",
    "print(size)\n",
    "freq = range(0, size, 1)\n",
    "plt.plot(freq, data[0][:size])"
   ]
  },
  {
   "cell_type": "code",
   "execution_count": null,
   "metadata": {},
   "outputs": [],
   "source": [
    "data = pd.read_csv('../results/tests/fft_fftwavesum.csv', header=None).to_numpy()\n",
    "size = data.shape[0]\n",
    "print(size)\n",
    "\n",
    "freq = range(0, size, 1)\n",
    "plt.plot(freq, np.abs(data[:size])**2)"
   ]
  },
  {
   "cell_type": "markdown",
   "metadata": {},
   "source": [
    "## Mel coefficients"
   ]
  },
  {
   "cell_type": "markdown",
   "metadata": {},
   "source": [
    "### Filterbank"
   ]
  },
  {
   "cell_type": "code",
   "execution_count": null,
   "metadata": {},
   "outputs": [],
   "source": [
    "data = pd.read_csv('../results/tests/filterbank.csv', header=None).to_numpy()\n",
    "plt.plot(data[0:257,:]);\n",
    "plt.xticks(np.arange(0,258,32.125), np.arange(0,8001,1000));\n",
    "plt.xlabel(\"Frequency\");\n",
    "plt.ylabel(\"Amplitude\");"
   ]
  },
  {
   "cell_type": "markdown",
   "metadata": {},
   "source": [
    "Lets compare the spectograms generated with mel scale for different audios of the same word"
   ]
  },
  {
   "cell_type": "markdown",
   "metadata": {},
   "source": [
    "### Mel spectograms"
   ]
  },
  {
   "cell_type": "code",
   "execution_count": null,
   "metadata": {},
   "outputs": [],
   "source": [
    "data = pd.read_csv('../results/tests/happy0_spectogram.csv', header=None).to_numpy().transpose()\n",
    "fig = plt.figure(figsize=(20,15))\n",
    "fig.add_subplot(1, 2, 1)\n",
    "plt.imshow(data, origin='lower', cmap='jet')\n",
    "data = pd.read_csv('../results/tests/happy1_spectogram.csv', header=None).to_numpy().transpose()\n",
    "fig.add_subplot(1, 2, 2)\n",
    "plt.imshow(data, origin='lower', cmap='jet')"
   ]
  },
  {
   "cell_type": "markdown",
   "metadata": {},
   "source": [
    "### Mel cepstral coeffients"
   ]
  },
  {
   "cell_type": "code",
   "execution_count": null,
   "metadata": {},
   "outputs": [],
   "source": [
    "data = pd.read_csv('../results/tests/happy0_mfcc.csv', header=None).to_numpy().transpose()\n",
    "fig = plt.figure(figsize=(20,30))\n",
    "fig.add_subplot(1, 2, 1)\n",
    "plt.imshow(data, origin='lower', cmap='jet')\n",
    "data = pd.read_csv('../results/tests/happy1_mfcc.csv', header=None).to_numpy().transpose()\n",
    "fig.add_subplot(1, 2, 2)\n",
    "plt.imshow(data, origin='lower', cmap='jet')"
   ]
  }
 ],
 "metadata": {
  "interpreter": {
   "hash": "68ad91fe56bf228a59db514315867f7d3e19b6c669e7a0fbd4d5254dbb53db91"
  },
  "kernelspec": {
   "display_name": "Python 3.9.2 64-bit ('speechrecognition': venv)",
   "language": "python",
   "name": "python3"
  },
  "language_info": {
   "codemirror_mode": {
    "name": "ipython",
    "version": 3
   },
   "file_extension": ".py",
   "mimetype": "text/x-python",
   "name": "python",
   "nbconvert_exporter": "python",
   "pygments_lexer": "ipython3",
   "version": "3.9.2"
  },
  "orig_nbformat": 4
 },
 "nbformat": 4,
 "nbformat_minor": 2
}
