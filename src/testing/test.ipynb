{
 "cells": [
  {
   "cell_type": "code",
   "execution_count": null,
   "metadata": {},
   "outputs": [],
   "source": [
    "import numpy as np\n",
    "import pandas as pd\n",
    "import matplotlib.pyplot as plt\n",
    "from scipy.io import wavfile"
   ]
  },
  {
   "cell_type": "markdown",
   "metadata": {},
   "source": [
    "# FFT tests"
   ]
  },
  {
   "cell_type": "markdown",
   "metadata": {},
   "source": [
    "## Sinewave"
   ]
  },
  {
   "cell_type": "code",
   "execution_count": null,
   "metadata": {},
   "outputs": [],
   "source": [
    "data = pd.read_csv('../../res/tests/fft_sinewave.csv', header=None)\n",
    "size = data.shape[0]\n",
    "print(size)\n",
    "freq = range(0, size, 1)\n",
    "plt.plot(freq, data[0][:size])"
   ]
  },
  {
   "cell_type": "code",
   "execution_count": null,
   "metadata": {},
   "outputs": [],
   "source": [
    "data = pd.read_csv('../../res/tests/fft_fftsinewave.csv', header=None).to_numpy()\n",
    "size = data.shape[0]\n",
    "print(data.shape)\n",
    "\n",
    "freq = range(0, size, 1)\n",
    "plt.plot(freq, np.abs(data[:size])**2)"
   ]
  },
  {
   "cell_type": "markdown",
   "metadata": {},
   "source": [
    "## Wave sum"
   ]
  },
  {
   "cell_type": "code",
   "execution_count": null,
   "metadata": {},
   "outputs": [],
   "source": [
    "data = pd.read_csv('../../res/tests/fft_wavesum.csv', header=None)\n",
    "size = data.shape[0]\n",
    "print(size)\n",
    "freq = range(0, size, 1)\n",
    "plt.plot(freq, data[0][:size])"
   ]
  },
  {
   "cell_type": "code",
   "execution_count": null,
   "metadata": {},
   "outputs": [],
   "source": [
    "data = pd.read_csv('../../res/tests/fft_fftwavesum.csv', header=None)\n",
    "size = data.shape[0]\n",
    "print(data.shape)\n",
    "\n",
    "freq = range(0, size, 1)\n",
    "plt.plot(freq, np.abs(data[:size])**2)"
   ]
  }
 ],
 "metadata": {
  "interpreter": {
   "hash": "68ad91fe56bf228a59db514315867f7d3e19b6c669e7a0fbd4d5254dbb53db91"
  },
  "kernelspec": {
   "display_name": "Python 3.9.2 64-bit ('speechrecognition': venv)",
   "language": "python",
   "name": "python3"
  },
  "language_info": {
   "codemirror_mode": {
    "name": "ipython",
    "version": 3
   },
   "file_extension": ".py",
   "mimetype": "text/x-python",
   "name": "python",
   "nbconvert_exporter": "python",
   "pygments_lexer": "ipython3",
   "version": "3.9.2"
  },
  "orig_nbformat": 4
 },
 "nbformat": 4,
 "nbformat_minor": 2
}
